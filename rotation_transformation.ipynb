{
 "cells": [
  {
   "cell_type": "code",
   "execution_count": 1,
   "metadata": {},
   "outputs": [
    {
     "name": "stderr",
     "output_type": "stream",
     "text": [
      "c:\\Anaconda3\\envs\\infinitt2\\lib\\site-packages\\tqdm\\auto.py:21: TqdmWarning: IProgress not found. Please update jupyter and ipywidgets. See https://ipywidgets.readthedocs.io/en/stable/user_install.html\n",
      "  from .autonotebook import tqdm as notebook_tqdm\n"
     ]
    }
   ],
   "source": [
    "import math\n",
    "import torch\n",
    "import numpy as np\n",
    "from math import cos, sin, radians"
   ]
  },
  {
   "cell_type": "code",
   "execution_count": 21,
   "metadata": {},
   "outputs": [],
   "source": [
    "x_degree = 30\n",
    "y_degree = 30\n",
    "z_degree = -30\n",
    "x_trans = 30\n",
    "y_trans = 30\n",
    "z_trans = -30"
   ]
  },
  {
   "cell_type": "code",
   "execution_count": 22,
   "metadata": {},
   "outputs": [
    {
     "data": {
      "text/plain": [
       "0.5235987755982988"
      ]
     },
     "execution_count": 22,
     "metadata": {},
     "output_type": "execute_result"
    }
   ],
   "source": [
    "y_radian = radians(y_degree)\n",
    "y_radian"
   ]
  },
  {
   "cell_type": "code",
   "execution_count": 23,
   "metadata": {},
   "outputs": [],
   "source": [
    "rotate_x = torch.tensor([[1, 0, 0],\n",
    "                         [0, cos(radians(x_degree)), -sin(radians(x_degree))],\n",
    "                         [0, sin(radians(x_degree)), cos(radians(x_degree))]])\n",
    "\n",
    "rotate_y = torch.tensor([[cos(radians(y_degree)), 0, sin(radians(y_degree))],\n",
    "                         [0, 1, 0],\n",
    "                         [-sin(radians(y_degree)), 0, cos(radians(y_degree))]])\n",
    "\n",
    "rotate_z = torch.tensor([[cos(radians(z_degree)), -sin(radians(z_degree)), 0],\n",
    "                         [sin(radians(z_degree)), cos(radians(z_degree)), 0],\n",
    "                         [0, 0, 1]])"
   ]
  },
  {
   "cell_type": "code",
   "execution_count": 24,
   "metadata": {},
   "outputs": [
    {
     "data": {
      "text/plain": [
       "tensor([[ 0.8660,  0.0000,  0.5000],\n",
       "        [ 0.2500,  0.8660, -0.4330],\n",
       "        [-0.4330,  0.5000,  0.7500]])"
      ]
     },
     "execution_count": 24,
     "metadata": {},
     "output_type": "execute_result"
    }
   ],
   "source": [
    "torch.mm(rotate_x, rotate_y)"
   ]
  },
  {
   "cell_type": "code",
   "execution_count": 25,
   "metadata": {},
   "outputs": [
    {
     "data": {
      "text/plain": [
       "tensor([[ 0.8660,  0.2500,  0.4330],\n",
       "        [ 0.0000,  0.8660, -0.5000],\n",
       "        [-0.5000,  0.4330,  0.7500]])"
      ]
     },
     "execution_count": 25,
     "metadata": {},
     "output_type": "execute_result"
    }
   ],
   "source": [
    "torch.mm(rotate_y, rotate_x)"
   ]
  },
  {
   "cell_type": "code",
   "execution_count": 26,
   "metadata": {},
   "outputs": [],
   "source": [
    "# Rx -> Ry -> Rz -> Tx -> Ty -> Tz\n",
    "tmp = torch.mm(rotate_y, rotate_x)\n",
    "tmp = torch.mm(rotate_z, tmp)\n",
    "matrix = torch.zeros((4,4))\n",
    "for i in range(3):\n",
    "    for j in range(3):\n",
    "        matrix[i][j] = tmp[i][j]\n",
    "matrix[0][3] = x_trans\n",
    "matrix[1][3] = y_trans\n",
    "matrix[2][3] = z_trans\n",
    "matrix[3] = torch.tensor([0, 0, 0, 1])"
   ]
  },
  {
   "cell_type": "code",
   "execution_count": 27,
   "metadata": {},
   "outputs": [
    {
     "data": {
      "text/plain": [
       "tensor([[  0.7500,   0.6495,   0.1250,  30.0000],\n",
       "        [ -0.4330,   0.6250,  -0.6495,  30.0000],\n",
       "        [ -0.5000,   0.4330,   0.7500, -30.0000],\n",
       "        [  0.0000,   0.0000,   0.0000,   1.0000]])"
      ]
     },
     "execution_count": 27,
     "metadata": {},
     "output_type": "execute_result"
    }
   ],
   "source": [
    "matrix"
   ]
  }
 ],
 "metadata": {
  "kernelspec": {
   "display_name": "usp",
   "language": "python",
   "name": "python3"
  },
  "language_info": {
   "codemirror_mode": {
    "name": "ipython",
    "version": 3
   },
   "file_extension": ".py",
   "mimetype": "text/x-python",
   "name": "python",
   "nbconvert_exporter": "python",
   "pygments_lexer": "ipython3",
   "version": "3.8.8"
  }
 },
 "nbformat": 4,
 "nbformat_minor": 2
}
